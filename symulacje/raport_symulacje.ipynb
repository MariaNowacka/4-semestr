{
  "nbformat": 4,
  "nbformat_minor": 0,
  "metadata": {
    "colab": {
      "provenance": []
    },
    "kernelspec": {
      "name": "python3",
      "display_name": "Python 3"
    },
    "language_info": {
      "name": "python"
    }
  },
  "cells": [
    {
      "cell_type": "markdown",
      "source": [
        "# Raport"
      ],
      "metadata": {
        "id": "-Rz8hIX00Y2-"
      }
    },
    {
      "cell_type": "markdown",
      "source": [
        "Przedmiot: Symulacje komputerowe \\\n",
        "Prowadzący: dr inż. Rafał Połoczański \\\n",
        "Autorzy: Bartłomiej Mielcarz, Maria Nowacka, Roksana Rymarek"
      ],
      "metadata": {
        "id": "pLrkTWEr1dhk"
      }
    },
    {
      "cell_type": "code",
      "source": [],
      "metadata": {
        "id": "O5lGgwDZ3DJg"
      },
      "execution_count": null,
      "outputs": []
    },
    {
      "cell_type": "markdown",
      "source": [
        "## zadanie 1"
      ],
      "metadata": {
        "id": "z2Dn5eYa1ZiN"
      }
    },
    {
      "cell_type": "markdown",
      "source": [
        "Generator ACORN (Additive Congruential Random Number)"
      ],
      "metadata": {
        "id": "1McuU3cCOq-b"
      }
    },
    {
      "cell_type": "code",
      "source": [
        "# Marysia"
      ],
      "metadata": {
        "id": "KqnPc1J92Rnm"
      },
      "execution_count": 25,
      "outputs": []
    },
    {
      "cell_type": "code",
      "source": [
        "def ACORN(N, k=9, M = 2**89 - 1, Lag=10**3):\n",
        "  # coś z tym Lag jeszcze trzeba\n",
        "  c = 7\n",
        "  X = [[0]*(N+1) for _ in range(k+1)]\n",
        "  X[0][0] = c\n",
        "  n = len(X) # wiersze\n",
        "  m = len(X[0]) # kolumny\n",
        "  for i in range(n):\n",
        "    for j in range(1,m):\n",
        "      X[i][j] = (X[i-1][j] + X[i][j-1])%M\n",
        "  Yk = [X[k][j]/M for j in range(1,N+1)]\n",
        "  return Yk"
      ],
      "metadata": {
        "id": "cHdKyzE9Owe5"
      },
      "execution_count": 26,
      "outputs": []
    },
    {
      "cell_type": "code",
      "source": [
        "ACORN(5)"
      ],
      "metadata": {
        "colab": {
          "base_uri": "https://localhost:8080/"
        },
        "id": "rRnCApUNT3_T",
        "outputId": "5d56a00f-5d25-46d8-98ae-58e5361b5d5d"
      },
      "execution_count": null,
      "outputs": [
        {
          "output_type": "execute_result",
          "data": {
            "text/plain": [
              "[1.1309109937248425e-26,\n",
              " 1.1309109937248425e-25,\n",
              " 6.220010465486634e-25,\n",
              " 2.4880041861946536e-24,\n",
              " 8.086013605132624e-24]"
            ]
          },
          "metadata": {},
          "execution_count": 24
        }
      ]
    },
    {
      "cell_type": "markdown",
      "source": [
        "# zadanie 2"
      ],
      "metadata": {
        "id": "2LKFf_fl2pqO"
      }
    },
    {
      "cell_type": "code",
      "source": [],
      "metadata": {
        "id": "ZzfwVGix2q0o"
      },
      "execution_count": null,
      "outputs": []
    },
    {
      "cell_type": "markdown",
      "source": [
        "# zadanie 3"
      ],
      "metadata": {
        "id": "iL_yXEy32vhL"
      }
    },
    {
      "cell_type": "code",
      "source": [],
      "metadata": {
        "id": "jnbtXEXA2w2Z"
      },
      "execution_count": null,
      "outputs": []
    },
    {
      "cell_type": "markdown",
      "source": [
        "# zadanie 4"
      ],
      "metadata": {
        "id": "6rHgO0362x2m"
      }
    },
    {
      "cell_type": "markdown",
      "source": [
        "Warunkowa wartość oczekiwana"
      ],
      "metadata": {
        "id": "Vk0D-JgpXc27"
      }
    },
    {
      "cell_type": "markdown",
      "source": [
        "Wartość oczekiwana $f(X)$ zmiennej $Y$ warunkowanej zmienną $X$ ma bardzo ciekawą interpretację, mianowicie spełnia\n",
        "własność\n",
        "$$\\mathbb{E} (Y |X = x) = f(x) = \\underset{g}{\\operatorname{arg min}} \\mathbb{E}\\Big(\n",
        "(Y − g(X)\\big)^2\\Big)$$\n",
        "Oznacza to, że $\\mathbb{E} (Y|X)$ to najlepsze przybliżenie w sensie $L^2$\n",
        "zmiennej $Y$ korzystające z danych pochodzących ze\n",
        "zmiennej $X$. Sprawdź symulacyjnie następujące stwierdzenia.\n",
        "* Jeśli $X,\\ Y$ są zmiennymi niezależnymi a $\\mathbb{E}(Y) = 0$, to dla $Z = XY + \\sin{X}$ zachodzi $\\mathbb{E}(Z|X) = \\sin{X}$. Jako\n",
        "przykład możesz wziąć np. $X,\\ Y$ iid ∼ $\\mathcal{N}(0, 1)$. Zrób scatterplot $X \\mapsto Z|X$ wysymulowanych wartości i zaznacz\n",
        "na nim wartości estymowane oraz teoretyczne  $\\mathbb{E}(Z|X)$."
      ],
      "metadata": {
        "id": "OifLgvclX7Fz"
      }
    },
    {
      "cell_type": "code",
      "source": [
        "# Marysia"
      ],
      "metadata": {
        "id": "kIB9uxPh20uD"
      },
      "execution_count": null,
      "outputs": []
    },
    {
      "cell_type": "code",
      "source": [
        "def E(Y, X, x):\n"
      ],
      "metadata": {
        "id": "F69_e6zhXgFQ"
      },
      "execution_count": null,
      "outputs": []
    },
    {
      "cell_type": "markdown",
      "source": [
        "# zadanie 5"
      ],
      "metadata": {
        "id": "U5M5oQUr21WB"
      }
    },
    {
      "cell_type": "code",
      "source": [
        "# Roxa"
      ],
      "metadata": {
        "id": "4-LZksEF22yb"
      },
      "execution_count": null,
      "outputs": []
    },
    {
      "cell_type": "markdown",
      "source": [
        "# zadanie 6"
      ],
      "metadata": {
        "id": "OTQczHTt29II"
      }
    },
    {
      "cell_type": "code",
      "source": [
        "# Bartek"
      ],
      "metadata": {
        "id": "bs6G1Oqm2-aL"
      },
      "execution_count": null,
      "outputs": []
    }
  ]
}