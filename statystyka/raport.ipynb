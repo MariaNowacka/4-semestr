{
 "cells": [
  {
   "cell_type": "markdown",
   "metadata": {},
   "source": [
    "# Raport ze statystyki"
   ]
  },
  {
   "cell_type": "code",
   "execution_count": 1,
   "metadata": {},
   "outputs": [],
   "source": [
    "import numpy as np, matplotlib.pyplot as plt, pandas as pd, random, seaborn as sns, math\n",
    "from scipy.stats import norm, pareto, expon, lognorm"
   ]
  },
  {
   "cell_type": "code",
   "execution_count": null,
   "metadata": {},
   "outputs": [],
   "source": [
    "X = np.random.normal(loc = 2, scale = 2, size = 2000)\n",
    "n = len(X)"
   ]
  },
  {
   "cell_type": "markdown",
   "metadata": {},
   "source": [
    "**wykresy**"
   ]
  },
  {
   "cell_type": "code",
   "execution_count": null,
   "metadata": {},
   "outputs": [],
   "source": [
    "plt.boxplot(X)\n",
    "plt.axhline(y=cos, label = '')"
   ]
  },
  {
   "cell_type": "markdown",
   "metadata": {},
   "source": [
    "**gęstośc, dytrybuanta**"
   ]
  },
  {
   "cell_type": "code",
   "execution_count": null,
   "metadata": {},
   "outputs": [],
   "source": [
    "sns.ecdfplot(data = X, label = 'dystrybuanta empiryczna')\n",
    "sns.kdeplot(X, label= 'gestość empiryczna X')\n",
    "norm.pdf(np.linspace(-3,3,1000))\n",
    "plt.hist(X, density = True)\n"
   ]
  },
  {
   "cell_type": "markdown",
   "metadata": {},
   "source": [
    "**dystrybuanta empiryczna** - moja funkcja"
   ]
  },
  {
   "cell_type": "code",
   "execution_count": null,
   "metadata": {},
   "outputs": [],
   "source": [
    "def demp(X, x):\n",
    "    n = len(X)\n",
    "    count = sum(1 for xi in X if xi <= x)\n",
    "    return count / n\n",
    "def drewdemp(X,xss,yss): # dystrybuanta empiryczna + teoretyczna\n",
    "    x_values = np.sort(X)\n",
    "    y_values = [demp(x_values, x) for x in x_values]\n",
    "    plt.plot(x_values, y_values, label='empiryczna')\n",
    "    plt.title('Wykres dystrybuant')\n",
    "    plt.plot(xss, yss, label='teoretyczna')\n",
    "    plt.legend()\n",
    "    plt.show()"
   ]
  },
  {
   "cell_type": "markdown",
   "metadata": {},
   "source": [
    "**wczytywanie danych z pliku**"
   ]
  },
  {
   "cell_type": "code",
   "execution_count": null,
   "metadata": {},
   "outputs": [],
   "source": [
    "data = pd.read_csv(\"adult.csv\")\n",
    "\n",
    "my_file = open(\"dane_lista1.txt\", 'r')\n",
    "data = my_file.read().split()\n",
    "my_file.close()\n",
    "\n",
    "dane = pd.read_csv('CollegeDist.csv', delimiter=';')['score'].to_list()"
   ]
  },
  {
   "cell_type": "markdown",
   "metadata": {},
   "source": [
    "**parametry statystyczne**"
   ]
  },
  {
   "cell_type": "code",
   "execution_count": null,
   "metadata": {},
   "outputs": [],
   "source": [
    "def mediana(X):\n",
    "    n = len(X)\n",
    "    if n%2==0:\n",
    "        s = int(n/2)\n",
    "        return (sorted(X)[s]+sorted(X)[s+1])/2\n",
    "    else:\n",
    "        return sorted(X)[int(n/2)]"
   ]
  },
  {
   "cell_type": "code",
   "execution_count": null,
   "metadata": {},
   "outputs": [],
   "source": [
    "def Q1(X):\n",
    "    s = int(len(X)/2)\n",
    "    return mediana(X[0:s+1])"
   ]
  },
  {
   "cell_type": "code",
   "execution_count": null,
   "metadata": {},
   "outputs": [],
   "source": [
    "def Q2(X):\n",
    "    return mediana(X)"
   ]
  },
  {
   "cell_type": "code",
   "execution_count": null,
   "metadata": {},
   "outputs": [],
   "source": [
    "def Q3(X):\n",
    "    s = int(len(X)/2)\n",
    "    return mediana(X[s::])"
   ]
  },
  {
   "cell_type": "code",
   "execution_count": null,
   "metadata": {},
   "outputs": [],
   "source": [
    "def rozstepZProby(X):\n",
    "    return Q3(X)-Q1(X)"
   ]
  },
  {
   "cell_type": "code",
   "execution_count": null,
   "metadata": {},
   "outputs": [],
   "source": [
    "def rozMiedzykwartylowy(X):\n",
    "    Y = sorted(X)\n",
    "    return Y[-1] - Y[0]"
   ]
  },
  {
   "cell_type": "code",
   "execution_count": null,
   "metadata": {},
   "outputs": [],
   "source": [
    "def wariancjaZProby(X):\n",
    "    n = len(X)\n",
    "    return 1/(n-1)*sum((xi - sum(X)/n)**2 for xi in X)"
   ]
  },
  {
   "cell_type": "code",
   "execution_count": null,
   "metadata": {},
   "outputs": [],
   "source": [
    "def odchylenie(X):\n",
    "    return math.sqrt(wariancjaZProby(X))"
   ]
  },
  {
   "cell_type": "code",
   "execution_count": null,
   "metadata": {},
   "outputs": [],
   "source": [
    "def mean(X):\n",
    "    n = len(X)\n",
    "    return sum(X)/n"
   ]
  },
  {
   "cell_type": "markdown",
   "metadata": {},
   "source": [
    "**średnie**"
   ]
  },
  {
   "cell_type": "code",
   "execution_count": null,
   "metadata": {},
   "outputs": [],
   "source": [
    "def arytmetyczna(X):\n",
    "    return mean(X)"
   ]
  },
  {
   "cell_type": "code",
   "execution_count": null,
   "metadata": {},
   "outputs": [],
   "source": [
    "def harmoniczna(X):\n",
    "    return len(X)/sum(1/xi for xi in X)"
   ]
  },
  {
   "cell_type": "code",
   "execution_count": null,
   "metadata": {},
   "outputs": [],
   "source": [
    "def geometryczna(X):\n",
    "    n = len(X)\n",
    "    prod = 1\n",
    "    for xi in X:\n",
    "        prod *= xi**(1/n)\n",
    "    return prod"
   ]
  },
  {
   "cell_type": "code",
   "execution_count": null,
   "metadata": {},
   "outputs": [],
   "source": [
    "def ucinana(X,k):\n",
    "    n = len(X)\n",
    "    Xs = sorted(X)\n",
    "    return 1/(n-2*k) * sum(xi for xi in Xs[k:n-k])"
   ]
  },
  {
   "cell_type": "code",
   "execution_count": null,
   "metadata": {},
   "outputs": [],
   "source": [
    "def winsorowska(X,k):\n",
    "    n = len(X)\n",
    "    Xs = sorted(X)\n",
    "    return 1/n * ((k+1)*Xs[k] + sum(xi for xi in Xs[k+1:n-k]) + (k+1)*Xs[n-k-1])"
   ]
  },
  {
   "cell_type": "code",
   "execution_count": null,
   "metadata": {},
   "outputs": [],
   "source": [
    "ys1 = [ucinana(dane, k) for k in range(1,int(n/2)+1)]\n",
    "ys2 = [winsorowska(dane, k) for k in range(1,int(n/2)+1)]"
   ]
  },
  {
   "cell_type": "markdown",
   "metadata": {},
   "source": [
    "**korelacja kolejnościowa (rangowa)**"
   ]
  },
  {
   "cell_type": "code",
   "execution_count": null,
   "metadata": {},
   "outputs": [],
   "source": [
    "def rangi(tablica):\n",
    "    n = len(tablica)\n",
    "    tab = tablica.copy()\n",
    "    tab.sort(reverse = True)\n",
    "    r = [0]*n\n",
    "    for i in range(n):\n",
    "        a = tablica.count(tab[i]) \n",
    "        if not a>1:\n",
    "            r[tablica.index(tab[i])] = i+1\n",
    "        else:\n",
    "            suma = a\n",
    "            indeksy = []\n",
    "            for j in range(n):\n",
    "                if tab[i] == tablica[j]:\n",
    "                    indeksy.append(j)\n",
    "            for k in range(n):\n",
    "                if tab[i] == tab[k]:\n",
    "                    suma += k\n",
    "            for o in indeksy:\n",
    "                r[o] = suma/a\n",
    "    return r"
   ]
  },
  {
   "cell_type": "code",
   "execution_count": null,
   "metadata": {},
   "outputs": [],
   "source": [
    "def spearman(tab1, tab2):\n",
    "    n = len(tab1)\n",
    "    return 1 - 6*sum(i**2 for i in [abs(tab1[k]-tab2[k]) for k in range(n)])/(n*(n**2-1))"
   ]
  }
 ],
 "metadata": {
  "kernelspec": {
   "display_name": "Python 3",
   "language": "python",
   "name": "python3"
  },
  "language_info": {
   "codemirror_mode": {
    "name": "ipython",
    "version": 3
   },
   "file_extension": ".py",
   "mimetype": "text/x-python",
   "name": "python",
   "nbconvert_exporter": "python",
   "pygments_lexer": "ipython3",
   "version": "3.11.9"
  }
 },
 "nbformat": 4,
 "nbformat_minor": 2
}
