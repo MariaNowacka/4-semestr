{
 "cells": [
  {
   "cell_type": "markdown",
   "metadata": {},
   "source": [
    "# Lista 6"
   ]
  },
  {
   "cell_type": "code",
   "execution_count": 4,
   "metadata": {},
   "outputs": [],
   "source": [
    "import numpy as np, matplotlib.pyplot as plt, pandas as pd, random, seaborn as sns, math\n",
    "from scipy.stats import norm, lognorm"
   ]
  },
  {
   "cell_type": "markdown",
   "metadata": {},
   "source": [
    "## zadanie 1"
   ]
  },
  {
   "cell_type": "code",
   "execution_count": 5,
   "metadata": {},
   "outputs": [
    {
     "data": {
      "text/plain": [
       "(227.13270097107676, 235.52729902892327)"
      ]
     },
     "execution_count": 5,
     "metadata": {},
     "output_type": "execute_result"
    }
   ],
   "source": [
    "231.33 - (2.5931*np.sqrt(31.44/12)), 231.33 + (2.5931*np.sqrt(31.44/12))"
   ]
  },
  {
   "cell_type": "code",
   "execution_count": 6,
   "metadata": {},
   "outputs": [
    {
     "data": {
      "text/plain": [
       "(15.777372262773723, 90.62893081761007)"
      ]
     },
     "execution_count": 6,
     "metadata": {},
     "output_type": "execute_result"
    }
   ],
   "source": [
    "11*31.44/21.92, 11*31.44/3.816"
   ]
  },
  {
   "cell_type": "markdown",
   "metadata": {},
   "source": [
    "## zadanie 4"
   ]
  },
  {
   "cell_type": "markdown",
   "metadata": {},
   "source": [
    "loc = mi \\\n",
    "scale = sigma**2 \\\n",
    "sigma znane:\\\n",
    "[$\\overline{X} - x_{1-\\frac{\\alpha}{2}} \\cdot \\frac{\\sigma}{\\sqrt{n}},\\overline{X} + x_{1-\\frac{\\alpha}{2}} \\cdot \\frac{\\sigma}{\\sqrt{n} }$]\\\n",
    "sigma nieznane: \\\n",
    "[$\\overline{X} - t_{1-\\frac{\\alpha}{2}, n-1} \\cdot \\frac{\\sigma}{\\sqrt{n}},\\overline{X} + t_{1-\\frac{\\alpha}{2}, n-1} \\cdot \\frac{\\sigma}{\\sqrt{n} }$]\n"
   ]
  },
  {
   "cell_type": "code",
   "execution_count": 7,
   "metadata": {},
   "outputs": [],
   "source": [
    "from scipy.stats import t, invgauss"
   ]
  },
  {
   "cell_type": "code",
   "execution_count": 8,
   "metadata": {},
   "outputs": [],
   "source": [
    "mi = 2.1\n",
    "sigma = 0.2\n",
    "alpha = 0.02"
   ]
  },
  {
   "cell_type": "code",
   "execution_count": 10,
   "metadata": {},
   "outputs": [],
   "source": [
    "ile2, ile5, ile10 = 0, 0, 0\n",
    "# x99 = 0.8389\n",
    "x99 = norm.ppf(1-alpha/2, mi, sigma)\n",
    "n = 1000\n",
    "for _ in range(n):\n",
    "    X20 = np.random.normal(loc = mi, scale = 0.2, size =20)\n",
    "    X50 = np.random.normal(loc = mi, scale = 0.2, size =50)\n",
    "    X100 = np.random.normal(loc = mi, scale = 0.2, size =100)\n",
    "    czy2 = (mi> (np.mean(X20) - x99*sigma/np.sqrt(20))) and (mi< (np.mean(X20) + x99*sigma/np.sqrt(20)))\n",
    "    ile2 += czy2\n",
    "    czy5 = (mi> (np.mean(X50) - x99*sigma/np.sqrt(50))) and (mi< (np.mean(X50) + x99*sigma/np.sqrt(50)))\n",
    "    ile5 += czy5\n",
    "    czy1 = (mi> (np.mean(X100) - x99*sigma/np.sqrt(100))) and (mi< (np.mean(X100) + x99*sigma/np.sqrt(100)))\n",
    "    ile10 += czy1\n",
    "    \n"
   ]
  },
  {
   "cell_type": "code",
   "execution_count": 11,
   "metadata": {},
   "outputs": [
    {
     "name": "stdout",
     "output_type": "stream",
     "text": [
      "sigma znane:  990 995 978\n"
     ]
    }
   ],
   "source": [
    "print('sigma znane: ',ile2, ile5, ile10)"
   ]
  },
  {
   "cell_type": "code",
   "execution_count": 12,
   "metadata": {},
   "outputs": [
    {
     "name": "stdout",
     "output_type": "stream",
     "text": [
      "sigma nieznane:  985 990 983\n"
     ]
    }
   ],
   "source": [
    "ile2, ile5, ile10 = 0, 0, 0\n",
    "x99 = norm.ppf(1-alpha/2, mi, sigma)\n",
    "t20 = t.ppf(1 - alpha/2, 19)\n",
    "t50 = t.ppf(1 - alpha/2, 49)\n",
    "t100 = t.ppf(1 - alpha/2, 99)\n",
    "n = 1000\n",
    "for _ in range(n):\n",
    "    X20 = np.random.normal(loc = mi, scale = 0.2, size =20)\n",
    "    X50 = np.random.normal(loc = mi, scale = 0.2, size =50)\n",
    "    X100 = np.random.normal(loc = mi, scale = 0.2, size =100)\n",
    "    czy2 = (mi> (np.mean(X20) - t20*sigma/np.sqrt(20))) and (mi< (np.mean(X20) + t20*sigma/np.sqrt(20)))\n",
    "    ile2 += czy2\n",
    "    czy5 = (mi> (np.mean(X50) - t50*sigma/np.sqrt(50))) and (mi< (np.mean(X50) + t50*sigma/np.sqrt(50)))\n",
    "    ile5 += czy5\n",
    "    czy1 = (mi> (np.mean(X100) - t100*sigma/np.sqrt(100))) and (mi< (np.mean(X100) + t50*sigma/np.sqrt(100)))\n",
    "    ile10 += czy1\n",
    "print('sigma nieznane: ',ile2, ile5, ile10)\n"
   ]
  },
  
 ],
 "metadata": {
  "kernelspec": {
   "display_name": "Python 3",
   "language": "python",
   "name": "python3"
  },
  "language_info": {
   "codemirror_mode": {
    "name": "ipython",
    "version": 3
   },
   "file_extension": ".py",
   "mimetype": "text/x-python",
   "name": "python",
   "nbconvert_exporter": "python",
   "pygments_lexer": "ipython3",
   "version": "3.11.9"
  }
 },
 "nbformat": 4,
 "nbformat_minor": 2
}
