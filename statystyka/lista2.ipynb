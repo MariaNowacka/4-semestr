{
 "cells": [
  {
   "cell_type": "markdown",
   "metadata": {},
   "source": [
    "# Lista 2"
   ]
  },
  {
   "cell_type": "markdown",
   "metadata": {},
   "source": [
    "## zadanie 1\n",
    "\n",
    "mediana, kwartyle, rozstęp z próby, rozstęp międzykwartylowy,\n",
    "wariancja z próby oraz odchylenie standardowe. Wyznacz powyższe charakterystyki dla wysymululowanej próby z rozkładu normalnego z parametrami µ = 2 i σ = 2 o długości 2000\n",
    "elementów"
   ]
  },
  {
   "cell_type": "code",
   "execution_count": 1,
   "metadata": {},
   "outputs": [],
   "source": [
    "import math, matplotlib.pyplot as plt, seaborn, numpy as np\n",
    "from  scipy.stats import norm"
   ]
  },
  {
   "cell_type": "code",
   "execution_count": 2,
   "metadata": {},
   "outputs": [],
   "source": [
    "X = np.random.normal(loc = 2, scale = 2, size = 2000)"
   ]
  },
  {
   "cell_type": "code",
   "execution_count": 3,
   "metadata": {},
   "outputs": [],
   "source": [
    "def mediana(X):\n",
    "    n = len(X)\n",
    "    if n%2==0:\n",
    "        s = int(n/2)\n",
    "        return (sorted(X)[s]+sorted(X)[s+1])/2\n",
    "    else:\n",
    "        return sorted(X)[int(n/2)]"
   ]
  },
  {
   "cell_type": "code",
   "execution_count": 4,
   "metadata": {},
   "outputs": [],
   "source": [
    "def Q1(X):\n",
    "    s = int(len(X)/2)\n",
    "    return mediana(X[0:s+1])"
   ]
  },
  {
   "cell_type": "code",
   "execution_count": 5,
   "metadata": {},
   "outputs": [],
   "source": [
    "def Q2(X):\n",
    "    return mediana(X)"
   ]
  },
  {
   "cell_type": "code",
   "execution_count": 6,
   "metadata": {},
   "outputs": [],
   "source": [
    "def Q3(X):\n",
    "    s = int(len(X)/2)\n",
    "    return mediana(X[s::])"
   ]
  },
  {
   "cell_type": "code",
   "execution_count": 7,
   "metadata": {},
   "outputs": [],
   "source": [
    "def rozstepZProby(X):\n",
    "    return Q3(X)-Q1(X)"
   ]
  },
  {
   "cell_type": "code",
   "execution_count": 8,
   "metadata": {},
   "outputs": [],
   "source": [
    "def rozMiedzykwartylowy(X):\n",
    "    Y = sorted(X)\n",
    "    return Y[-1] - Y[0]"
   ]
  },
  {
   "cell_type": "code",
   "execution_count": 9,
   "metadata": {},
   "outputs": [],
   "source": [
    "def wariancjaZProby(X):\n",
    "    n = len(X)\n",
    "    return 1/(n-1)*sum((xi - sum(X)/n)**2 for xi in X)"
   ]
  },
  {
   "cell_type": "code",
   "execution_count": 10,
   "metadata": {},
   "outputs": [],
   "source": [
    "def odchylenie(X):\n",
    "    return math.sqrt(wariancjaZProby(X))"
   ]
  },
  {
   "cell_type": "code",
   "execution_count": 11,
   "metadata": {},
   "outputs": [],
   "source": [
    "def mean(X):\n",
    "    n = len(X)\n",
    "    return sum(X)/n"
   ]
  },
  {
   "cell_type": "code",
   "execution_count": 60,
   "metadata": {},
   "outputs": [
    {
     "name": "stdout",
     "output_type": "stream",
     "text": [
      "2.0777008522566502 \n",
      " 2.071726979733348 \n",
      " 2.0777008522566502 \n",
      " 2.0893494509896655 \n",
      " 0.01762247125631733 \n",
      " 14.59213541106421 \n",
      " 4.007033740661724 \n",
      " 2.001757662820783\n"
     ]
    }
   ],
   "source": [
    "print(mediana(X),'\\n', Q1(X),'\\n',  Q2(X),'\\n',  Q3(X),'\\n',  rozstepZProby(X),'\\n',  rozMiedzykwartylowy(X),'\\n',  wariancjaZProby(X),'\\n',  odchylenie(X))\n"
   ]
  },
  {
   "cell_type": "markdown",
   "metadata": {},
   "source": [
    "## zadanie 2"
   ]
  },
  {
   "cell_type": "code",
   "execution_count": 15,
   "metadata": {},
   "outputs": [
    {
     "data": {
      "image/png": "[encoded data removed]",
      "text/plain": [
       "<Figure size 640x480 with 1 Axes>"
      ]
     },
     "metadata": {},
     "output_type": "display_data"
    }
   ],
   "source": [
    "# mi = 2, sigma =3\n",
    "N = list(range(50, 500, 50)) # dla każdego N 100 razy\n",
    "mi = 2\n",
    "sigma = 3\n",
    "def E(sigma):\n",
    "    return math.sqrt(2/math.pi)*sigma\n",
    "t = E(sigma)\n",
    "tab = []\n",
    "for i in N:\n",
    "    tab.append(0)\n",
    "    X2 = np.random.normal(loc = 2, scale = 3, size = i)\n",
    "    for k in range(100):\n",
    "        m = [abs(xi - mean(X2)) for xi in X2]\n",
    "        tabm = [abs(mj-t) for mj in m]\n",
    "        tab[-1]+= mean(tabm)\n",
    "    tab[-1] /= 100\n",
    "plt.scatter(N, tab)\n",
    "plt.show()"
   ]
  },
  {
   "cell_type": "markdown",
   "metadata": {},
   "source": [
    "## zadanie 3"
   ]
  },
  {
   "cell_type": "code",
   "execution_count": 45,
   "metadata": {},
   "outputs": [],
   "source": [
    "from pandas import *\n",
    "dane = read_csv('CollegeDist.csv', delimiter=';')['score'].to_list()"
   ]
  },
  {
   "cell_type": "code",
   "execution_count": 46,
   "metadata": {},
   "outputs": [],
   "source": [
    "def arytmetyczna(X):\n",
    "    return mean(X)"
   ]
  },
  {
   "cell_type": "code",
   "execution_count": 47,
   "metadata": {},
   "outputs": [
    {
     "data": {
      "text/plain": [
       "50.88902933684601"
      ]
     },
     "execution_count": 47,
     "metadata": {},
     "output_type": "execute_result"
    }
   ],
   "source": [
    "arytmetyczna(dane)"
   ]
  },
  {
   "cell_type": "code",
   "execution_count": 48,
   "metadata": {},
   "outputs": [],
   "source": [
    "def harmoniczna(X):\n",
    "    return len(X)/sum(1/xi for xi in X)"
   ]
  },
  {
   "cell_type": "code",
   "execution_count": 49,
   "metadata": {},
   "outputs": [
    {
     "data": {
      "text/plain": [
       "49.340266924477085"
      ]
     },
     "execution_count": 49,
     "metadata": {},
     "output_type": "execute_result"
    }
   ],
   "source": [
    "harmoniczna(dane)"
   ]
  },
  {
   "cell_type": "code",
   "execution_count": 50,
   "metadata": {},
   "outputs": [],
   "source": [
    "def geometryczna(X):\n",
    "    n = len(X)\n",
    "    prod = 1\n",
    "    for xi in X:\n",
    "        prod *= xi**(1/n)\n",
    "    return prod"
   ]
  },
  {
   "cell_type": "code",
   "execution_count": 51,
   "metadata": {},
   "outputs": [
    {
     "data": {
      "text/plain": [
       "50.12365436417006"
      ]
     },
     "execution_count": 51,
     "metadata": {},
     "output_type": "execute_result"
    }
   ],
   "source": [
    "geometryczna(dane)"
   ]
  },
  {
   "cell_type": "code",
   "execution_count": 52,
   "metadata": {},
   "outputs": [],
   "source": [
    "def ucinana(X,k):\n",
    "    n = len(X)\n",
    "    Xs = sorted(X)\n",
    "    return 1/(n-2*k) * sum(xi for xi in Xs[k:n-k])"
   ]
  },
  {
   "cell_type": "code",
   "execution_count": 53,
   "metadata": {},
   "outputs": [],
   "source": [
    "def winsorowska(X,k):\n",
    "    n = len(X)\n",
    "    Xs = sorted(X)\n",
    "    return 1/n * ((k+1)*Xs[k] + sum(xi for xi in Xs[k+1:n-k]) + (k+1)*Xs[n-k-1])"
   ]
  },
  {
   "cell_type": "code",
   "execution_count": 56,
   "metadata": {},
   "outputs": [
    {
     "data": {
      "image/png": "[encoded data removed]",
      "text/plain": [
       "<Figure size 640x480 with 1 Axes>"
      ]
     },
     "metadata": {},
     "output_type": "display_data"
    }
   ],
   "source": [
    "p = int(len(dane)/2)\n",
    "xs = range(p)\n",
    "ys1 = [ucinana(dane, k) for k in range(1,p+1)]\n",
    "ys2 = [winsorowska(dane, k) for k in range(1,p+1)]\n",
    "plt.plot(xs, ys1, label='ucinana')\n",
    "plt.plot(xs, ys2, label = 'winsorowska')\n",
    "plt.legend()\n",
    "plt.show()"
   ]
  },
  {
   "cell_type": "markdown",
   "metadata": {},
   "source": [
    "## zadanie 4"
   ]
  },
  {
   "cell_type": "code",
   "execution_count": 61,
   "metadata": {},
   "outputs": [
    {
     "data": {
      "image/png": "[encoded data removed]",
      "text/plain": [
       "<Figure size 640x480 with 1 Axes>"
      ]
     },
     "metadata": {},
     "output_type": "display_data"
    }
   ],
   "source": [
    "plt.boxplot(dane)\n",
    "plt.show()"
   ]
  },
  {
   "cell_type": "code",
   "execution_count": 59,
   "metadata": {},
   "outputs": [
    {
     "name": "stdout",
     "output_type": "stream",
     "text": [
      "mediana:  2.0777008522566502 \n",
      " 1. kwartyl:  2.071726979733348 \n",
      " drugi kwartyl 2.0777008522566502 \n",
      " trzeci kwartyl 2.0893494509896655 \n",
      " rozstęp:  0.01762247125631733 \n",
      " rozstęp międzykwartylowy: 14.59213541106421 \n",
      " wariancja: 4.007033740661724 \n",
      " 2.001757662820783\n",
      "minimum: 28.950000762939453 \n",
      "maksimum: 72.80999755859375\n"
     ]
    }
   ],
   "source": [
    "print('mediana: ',mediana(X),'\\n', '1. kwartyl: ',Q1(X),'\\n', 'drugi kwartyl', Q2(X),'\\n', 'trzeci kwartyl', Q3(X),'\\n', 'rozstęp: ', rozstepZProby(X),'\\n', 'rozstęp międzykwartylowy:', rozMiedzykwartylowy(X),'\\n', 'wariancja:', wariancjaZProby(X),'\\n',  odchylenie(X))\n",
    "print('minimum:', min(dane),'\\nmaksimum:', max(dane))"
   ]
  },
  {
   "cell_type": "code",
   "execution_count": null,
   "metadata": {},
   "outputs": [],
   "source": []
  }
 ],
 "metadata": {
  "kernelspec": {
   "display_name": "Python 3",
   "language": "python",
   "name": "python3"
  },
  "language_info": {
   "codemirror_mode": {
    "name": "ipython",
    "version": 3
   },
   "file_extension": ".py",
   "mimetype": "text/x-python",
   "name": "python",
   "nbconvert_exporter": "python",
   "pygments_lexer": "ipython3",
   "version": "3.11.8"
  }
 },
 "nbformat": 4,
 "nbformat_minor": 2
}
